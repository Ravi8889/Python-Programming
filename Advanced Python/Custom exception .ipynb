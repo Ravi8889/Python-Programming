{
 "cells": [
  {
   "cell_type": "code",
   "execution_count": 3,
   "metadata": {},
   "outputs": [],
   "source": [
    "import pandas as pd\n",
    "import numpy as np\n",
    "import matplotlib.pyplot as plt"
   ]
  },
  {
   "cell_type": "code",
   "execution_count": 12,
   "metadata": {},
   "outputs": [],
   "source": [
    "class error(Exception):\n",
    "    pass\n",
    "class deobException(error):\n",
    "    pass\n",
    "class strException(error):\n",
    "    pass"
   ]
  },
  {
   "cell_type": "code",
   "execution_count": 13,
   "metadata": {},
   "outputs": [
    {
     "name": "stdout",
     "output_type": "stream",
     "text": [
      "Enter the birth year:1999\n",
      "Enter your Name\"FKJASHDFKLJASHDKFLJSHDFKJHAKJKSJDHFK DFHKJADHFK\"\n",
      "The you age is Eligible\n",
      "the length of the name you entered is too long\n"
     ]
    }
   ],
   "source": [
    "year =int(input(\"Enter the birth year:\"));\n",
    "name =input(\"Enter your Name\");\n",
    "age =2021 -year;\n",
    "try:\n",
    "    if age <= 30 and age > 20:\n",
    "        print(\"The you age is Eligible\");\n",
    "    else:\n",
    "        raise deobException;\n",
    "except deobException:\n",
    "    print(\"You age is  Not Eligible \")\n",
    "try:\n",
    "    if len(name) <= 25:\n",
    "        print(\"Your Name is valid\");\n",
    "    else: \n",
    "        raise strException\n",
    "except strException:\n",
    "    print(\"the length of the name you entered is too long\")"
   ]
  },
  {
   "cell_type": "code",
   "execution_count": null,
   "metadata": {},
   "outputs": [],
   "source": []
  },
  {
   "cell_type": "code",
   "execution_count": null,
   "metadata": {},
   "outputs": [],
   "source": []
  }
 ],
 "metadata": {
  "kernelspec": {
   "display_name": "Python 3",
   "language": "python",
   "name": "python3"
  },
  "language_info": {
   "codemirror_mode": {
    "name": "ipython",
    "version": 3
   },
   "file_extension": ".py",
   "mimetype": "text/x-python",
   "name": "python",
   "nbconvert_exporter": "python",
   "pygments_lexer": "ipython3",
   "version": "3.8.5"
  }
 },
 "nbformat": 4,
 "nbformat_minor": 4
}
