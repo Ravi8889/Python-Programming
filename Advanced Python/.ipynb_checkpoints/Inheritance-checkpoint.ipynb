{
 "cells": [
  {
   "cell_type": "code",
   "execution_count": 1,
   "metadata": {},
   "outputs": [],
   "source": [
    "class Computer:#parent class\n",
    "    def __init__(self,ram,processor,memory):\n",
    "        self.ram =ram;\n",
    "        self.processor =processor;\n",
    "        self.memory =memory;\n",
    "class Mobile(Computer):\n",
    "    def __init__(self,ram,processor,memory,model):# child class inherits the parent class\n",
    "        super().__init__(selfram,processor,memory)\n",
    "        self.model =model\n",
    "comp =Computer(\"16gb\",\"intel i5\",\"2tb\");\n",
    "print(\"The specifications of my Computer is:\")\n",
    "print(\"the ram of computer is :\",comp.ram)\n",
    "print(\"the processor  of computer is :\",comp.processor)\n",
    "print(\"the memory of computer is :\",comp.memory)\n",
    "\n"
   ]
  },
  {
   "cell_type": "code",
   "execution_count": null,
   "metadata": {},
   "outputs": [],
   "source": []
  }
 ],
 "metadata": {
  "kernelspec": {
   "display_name": "Python 3",
   "language": "python",
   "name": "python3"
  },
  "language_info": {
   "codemirror_mode": {
    "name": "ipython",
    "version": 3
   },
   "file_extension": ".py",
   "mimetype": "text/x-python",
   "name": "python",
   "nbconvert_exporter": "python",
   "pygments_lexer": "ipython3",
   "version": "3.8.5"
  }
 },
 "nbformat": 4,
 "nbformat_minor": 4
}
