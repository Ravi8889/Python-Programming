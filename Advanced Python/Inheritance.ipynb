{
 "cells": [
  {
   "cell_type": "code",
   "execution_count": 8,
   "metadata": {},
   "outputs": [
    {
     "ename": "TypeError",
     "evalue": "__init__() takes 4 positional arguments but 5 were given",
     "output_type": "error",
     "traceback": [
      "\u001b[1;31m---------------------------------------------------------------------------\u001b[0m",
      "\u001b[1;31mTypeError\u001b[0m                                 Traceback (most recent call last)",
      "\u001b[1;32m<ipython-input-8-9d446dad65ed>\u001b[0m in \u001b[0;36m<module>\u001b[1;34m\u001b[0m\n\u001b[0;32m     13\u001b[0m \u001b[1;31m#print(\"the processor  of computer is :\",comp.processor)\u001b[0m\u001b[1;33m\u001b[0m\u001b[1;33m\u001b[0m\u001b[1;33m\u001b[0m\u001b[0m\n\u001b[0;32m     14\u001b[0m \u001b[1;31m#print(\"the memory of computer is :\",comp.memory)\u001b[0m\u001b[1;33m\u001b[0m\u001b[1;33m\u001b[0m\u001b[1;33m\u001b[0m\u001b[0m\n\u001b[1;32m---> 15\u001b[1;33m \u001b[0mmob\u001b[0m \u001b[1;33m=\u001b[0m\u001b[0mMobile\u001b[0m\u001b[1;33m(\u001b[0m\u001b[1;34m\"8gb\"\u001b[0m\u001b[1;33m,\u001b[0m\u001b[1;34m\"Qualcom 650\"\u001b[0m\u001b[1;33m,\u001b[0m\u001b[1;34m\"64\"\u001b[0m\u001b[1;33m,\u001b[0m\u001b[1;34m\"Asus Zenphone Max pro M1\"\u001b[0m\u001b[1;33m)\u001b[0m\u001b[1;33m\u001b[0m\u001b[1;33m\u001b[0m\u001b[0m\n\u001b[0m\u001b[0;32m     16\u001b[0m \u001b[0mprint\u001b[0m\u001b[1;33m(\u001b[0m\u001b[1;34m\"The specifications of my Mobile  is:\"\u001b[0m\u001b[1;33m)\u001b[0m\u001b[1;33m\u001b[0m\u001b[1;33m\u001b[0m\u001b[0m\n\u001b[0;32m     17\u001b[0m \u001b[0mprint\u001b[0m\u001b[1;33m(\u001b[0m\u001b[1;34m\"the ram of mobile is :\"\u001b[0m\u001b[1;33m,\u001b[0m\u001b[0mmob\u001b[0m\u001b[1;33m.\u001b[0m\u001b[0mram\u001b[0m\u001b[1;33m)\u001b[0m\u001b[1;33m\u001b[0m\u001b[1;33m\u001b[0m\u001b[0m\n",
      "\u001b[1;32m<ipython-input-8-9d446dad65ed>\u001b[0m in \u001b[0;36m__init__\u001b[1;34m(self, ram, processor, memory, model)\u001b[0m\n\u001b[0;32m      6\u001b[0m \u001b[1;32mclass\u001b[0m \u001b[0mMobile\u001b[0m\u001b[1;33m(\u001b[0m\u001b[0mComputer\u001b[0m\u001b[1;33m)\u001b[0m\u001b[1;33m:\u001b[0m\u001b[1;33m\u001b[0m\u001b[1;33m\u001b[0m\u001b[0m\n\u001b[0;32m      7\u001b[0m     \u001b[1;32mdef\u001b[0m \u001b[0m__init__\u001b[0m\u001b[1;33m(\u001b[0m\u001b[0mself\u001b[0m\u001b[1;33m,\u001b[0m\u001b[0mram\u001b[0m\u001b[1;33m,\u001b[0m\u001b[0mprocessor\u001b[0m\u001b[1;33m,\u001b[0m\u001b[0mmemory\u001b[0m\u001b[1;33m,\u001b[0m\u001b[0mmodel\u001b[0m\u001b[1;33m)\u001b[0m\u001b[1;33m:\u001b[0m\u001b[1;31m# child class inherits the parent class\u001b[0m\u001b[1;33m\u001b[0m\u001b[1;33m\u001b[0m\u001b[0m\n\u001b[1;32m----> 8\u001b[1;33m         \u001b[0msuper\u001b[0m\u001b[1;33m(\u001b[0m\u001b[1;33m)\u001b[0m\u001b[1;33m.\u001b[0m\u001b[0m__init__\u001b[0m\u001b[1;33m(\u001b[0m\u001b[0mself\u001b[0m\u001b[1;33m,\u001b[0m\u001b[0mram\u001b[0m\u001b[1;33m,\u001b[0m\u001b[0mprocessor\u001b[0m\u001b[1;33m,\u001b[0m\u001b[0mmemory\u001b[0m\u001b[1;33m)\u001b[0m\u001b[1;33m\u001b[0m\u001b[1;33m\u001b[0m\u001b[0m\n\u001b[0m\u001b[0;32m      9\u001b[0m         \u001b[0mself\u001b[0m\u001b[1;33m.\u001b[0m\u001b[0mmodel\u001b[0m \u001b[1;33m=\u001b[0m\u001b[0mmodel\u001b[0m\u001b[1;33m\u001b[0m\u001b[1;33m\u001b[0m\u001b[0m\n\u001b[0;32m     10\u001b[0m \u001b[1;31m#comp =Computer(\"16gb\",\"intel i5\",\"2tb\");\u001b[0m\u001b[1;33m\u001b[0m\u001b[1;33m\u001b[0m\u001b[1;33m\u001b[0m\u001b[0m\n",
      "\u001b[1;31mTypeError\u001b[0m: __init__() takes 4 positional arguments but 5 were given"
     ]
    }
   ],
   "source": [
    "class Computer:#parent class\n",
    "    def __init__(self,ram,processor,memory):\n",
    "        self.ram =ram;\n",
    "        self.processor =processor;\n",
    "        self.memory =memory;\n",
    "class Mobile(Computer):\n",
    "    def __init__(self,ram,processor,memory,model):# child class inherits the parent class\n",
    "        super().__init__(self,ram,processor,memory)\n",
    "        self.model =model\n",
    "#comp =Computer(\"16gb\",\"intel i5\",\"2tb\");\n",
    "#print(\"The specifications of my Computer is:\")\n",
    "#print(\"the ram of computer is :\",comp.ram)\n",
    "#print(\"the processor  of computer is :\",comp.processor)\n",
    "#print(\"the memory of computer is :\",comp.memory)\n",
    "mob =Mobile(\"8gb\",\"Qualcom 650\",\"64\",\"Asus Zenphone Max pro M1\")\n",
    "print(\"The specifications of my Mobile  is:\")\n",
    "print(\"the ram of mobile is :\",mob.ram)\n",
    "print(\"the memory of mobile is :\",mob.memory)\n",
    "print(\"the processor of mobile is :\",mob.processor)\n",
    "print(\"the model of mobile is :\",mob.model)\n",
    "\n",
    "\n"
   ]
  },
  {
   "cell_type": "code",
   "execution_count": null,
   "metadata": {},
   "outputs": [],
   "source": [
    "Inheritance "
   ]
  },
  {
   "cell_type": "code",
   "execution_count": 14,
   "metadata": {},
   "outputs": [
    {
     "name": "stdout",
     "output_type": "stream",
     "text": [
      "The specifications of Mobile Ram is 8gb\n",
      "The specifications of Mobile processor is Qualcom 665\n",
      "The specifications of MObile disk_space is 2tb\n",
      "The specifications of Mobile model is max_pro m1\n"
     ]
    }
   ],
   "source": [
    "class Computer:\n",
    "    def __init__(self,ram,processor,disk_space):\n",
    "        self.ram = ram;\n",
    "        self.disk_space = disk_space;\n",
    "        self.processor = processor;\n",
    "class Mobile(Computer):\n",
    "    def __init__(self,ram,processor,disk_space,model):\n",
    "        super().__init__(ram,processor,disk_space)\n",
    "        self.model =model;\n",
    "mob =Mobile(\"8gb\",\"Qualcom 665\",\"2tb\",\"max_pro m1\");\n",
    "print(\"The specifications of Mobile Ram is\",mob.ram);\n",
    "print(\"The specifications of Mobile processor is\",mob.processor);\n",
    "print(\"The specifications of MObile disk_space is\",mob.disk_space);\n",
    "print(\"The specifications of Mobile model is\",mob.model);\n"
   ]
  },
  {
   "cell_type": "markdown",
   "metadata": {},
   "source": [
    "Multiple Inheritance"
   ]
  },
  {
   "cell_type": "code",
   "execution_count": 44,
   "metadata": {},
   "outputs": [
    {
     "name": "stdout",
     "output_type": "stream",
     "text": [
      "Names of Animals are  : Lion  ,  Fish  ,  Bird .\n",
      "The size's of Animals are (Small-Big):  : Big  ,  small-Big  ,  Small .\n",
      "The Uniqueness  of Aimal is:  4-legs  , Two -Gills  , Two -Wings .\n"
     ]
    }
   ],
   "source": [
    "# multile Inheritance\n",
    "class Animal:\n",
    "    def __init__(self,name,size):\n",
    "        self.animal_name =name;\n",
    "        self.animal_size =size;\n",
    "class Flyable(Animal):\n",
    "    def __init__(self,name,size,wings):\n",
    "        super().__init__(name,size);\n",
    "        self.animal_wings =wings;\n",
    "class Swimable(Flyable):\n",
    "    def __init__(self,name,size,tail,gills):\n",
    "        super().__init__(name,size,tail)\n",
    "        self.animal_gills =gills;\n",
    "class Walable(Swimable):\n",
    "    def __init__(self,name,size,tail,gills,legs):\n",
    "        super().__init__(name,size,tail,gills)\n",
    "        self.animal_legs =legs;\n",
    "walk =Walable(\"Lion\",\"Big\",\"yes_tial\",\"no_gills\",\"4-legs\")\n",
    "swi =Swimable(\"Fish\",\"small-Big\",\"Two -Wings\",\"Two -Gills\")\n",
    "fly =Flyable(\"Bird\",'Small',\"Two -Wings\")\n",
    "ani =Animal(\"Names of Animals are \",\"The size's of Animals are (Small-Big): \")\n",
    "print(ani.animal_name,\":\",walk.animal_name, \" , \",swi.animal_name,\" , \",fly.animal_name,\".\")\n",
    "print(ani.animal_size,\":\",walk.animal_size,\" , \",swi.animal_size,\" , \",fly.animal_size,\".\")\n",
    "print(\"The Uniqueness  of Aimal is: \",walk.animal_legs,\" ,\",swi.animal_gills,\" ,\",fly.animal_wings,\".\")\n",
    "\n"
   ]
  },
  {
   "cell_type": "code",
   "execution_count": null,
   "metadata": {},
   "outputs": [],
   "source": []
  }
 ],
 "metadata": {
  "kernelspec": {
   "display_name": "Python 3",
   "language": "python",
   "name": "python3"
  },
  "language_info": {
   "codemirror_mode": {
    "name": "ipython",
    "version": 3
   },
   "file_extension": ".py",
   "mimetype": "text/x-python",
   "name": "python",
   "nbconvert_exporter": "python",
   "pygments_lexer": "ipython3",
   "version": "3.8.5"
  }
 },
 "nbformat": 4,
 "nbformat_minor": 4
}
